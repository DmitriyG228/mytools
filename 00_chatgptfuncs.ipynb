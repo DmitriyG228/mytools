{
 "cells": [
  {
   "cell_type": "code",
   "execution_count": null,
   "id": "944155e7-d0b2-4cf4-a021-852a5f3e3765",
   "metadata": {},
   "outputs": [],
   "source": [
    "#| default_exp chatgpt"
   ]
  },
  {
   "cell_type": "code",
   "execution_count": null,
   "id": "431a91ac-730c-4954-b5f4-216f648c15aa",
   "metadata": {},
   "outputs": [],
   "source": [
    "#| export\n",
    "import re\n",
    "from mytools.paths import *\n",
    "from mytools.tools import *\n",
    "import openai\n",
    "openai.api_key = get_api_key(api_path,'openai')"
   ]
  },
  {
   "cell_type": "code",
   "execution_count": null,
   "id": "4c31913f-1bf0-4b86-921d-fe172979cfd7",
   "metadata": {},
   "outputs": [],
   "source": [
    "#| export\n",
    "from transformers import CLIPProcessor, CLIPModel\n",
    "processor = CLIPProcessor.from_pretrained(\"openai/clip-vit-large-patch14\")\n",
    "tokenizer = processor.tokenizer\n",
    "import pandas as pd"
   ]
  },
  {
   "cell_type": "code",
   "execution_count": null,
   "id": "5d881370-f3a4-4137-af6e-8a0e15bb53f9",
   "metadata": {},
   "outputs": [],
   "source": [
    "#| export\n",
    "def ask_chatgpt(messages,text,return_request=False,model=\"gpt-3.5-turbo-0301\"):\n",
    "    request = {\"role\": \"user\", \"content\": text}\n",
    "    messages.append(request)\n",
    "    r = openai.ChatCompletion.create(\n",
    "      model=model,  #\"gpt-4\", #\"gpt-4\" \"gpt-3.5-turbo\"\n",
    "      messages=messages\n",
    "    ).to_dict()\n",
    "    \n",
    "    responce = r['choices'][0].to_dict()['message'].to_dict()\n",
    "    print (responce['content'])\n",
    "    if return_request: return responce,request \n",
    "    else: return responce\n",
    "\n",
    "\n"
   ]
  },
  {
   "cell_type": "code",
   "execution_count": null,
   "id": "55b24594-6788-487c-a01f-b21eebad658a",
   "metadata": {},
   "outputs": [],
   "source": [
    "messages = [\n",
    "    {\"role\": \"system\", \"content\": 'test'},\n",
    "    {\"role\": \"assistant\", \"content\": 'test'},\n",
    "           ]"
   ]
  },
  {
   "cell_type": "code",
   "execution_count": null,
   "id": "e01c8b06-0a0a-4eec-95f0-66d368024958",
   "metadata": {},
   "outputs": [
    {
     "name": "stdout",
     "output_type": "stream",
     "text": [
      "Is there anything specific you would like me to test or answer for you?\n"
     ]
    },
    {
     "data": {
      "text/plain": [
       "{'role': 'assistant',\n",
       " 'content': 'Is there anything specific you would like me to test or answer for you?'}"
      ]
     },
     "execution_count": null,
     "metadata": {},
     "output_type": "execute_result"
    }
   ],
   "source": [
    "ask_chatgpt(messages,'test')"
   ]
  },
  {
   "cell_type": "code",
   "execution_count": null,
   "id": "d0788ac1-9e5e-4f9a-aef1-4ef8abf6e348",
   "metadata": {},
   "outputs": [
    {
     "data": {
      "text/plain": [
       "[{'role': 'system', 'content': 'test'},\n",
       " {'role': 'assistant', 'content': 'test'},\n",
       " {'role': 'user', 'content': 'test'}]"
      ]
     },
     "execution_count": null,
     "metadata": {},
     "output_type": "execute_result"
    }
   ],
   "source": [
    "messages"
   ]
  },
  {
   "cell_type": "code",
   "execution_count": null,
   "id": "c989d45e-640b-4a2a-aff8-c064e13ec63d",
   "metadata": {},
   "outputs": [],
   "source": [
    "#| export\n",
    "def crop_tokens(messages,max_tokens=1000):\n",
    "    if len(messages)==0: return []\n",
    "    tokens_len = [len(tokenizer(m['content'])['input_ids']) for m in messages]\n",
    "    token_count_df = pd.DataFrame(messages)\n",
    "    token_count_df['len'] = [len(tokenizer(m['content'])['input_ids']) for m in messages]\n",
    "    token_count_df = token_count_df.drop_duplicates('content').sort_index(ascending=False)\n",
    "    token_count_df = token_count_df[token_count_df['len'].cumsum()<max_tokens]\n",
    "    token_index = token_count_df.sort_index().index\n",
    "    messages = messages[token_index[0]:token_index[-1]]\n",
    "    return messages"
   ]
  },
  {
   "cell_type": "code",
   "execution_count": null,
   "id": "fc22b70a-4645-4b09-af03-45fa02454d5d",
   "metadata": {},
   "outputs": [],
   "source": [
    "#| export\n",
    "def strip_text(text,urls):\n",
    "    for url in urls: text = text.replace(url,'').strip()\n",
    "    while True:\n",
    "        start_len = len(text)\n",
    "        text = text.replace('  ',' ')\n",
    "        text = text.replace('\\n \\n','\\n')\n",
    "        stop_len = len(text)\n",
    "        if start_len == stop_len: break\n",
    "        \n",
    "    return text\n",
    "    "
   ]
  },
  {
   "cell_type": "code",
   "execution_count": null,
   "id": "e7d69096-7bd5-48fa-a1f2-e4435071b9bc",
   "metadata": {},
   "outputs": [],
   "source": [
    "#| export\n",
    "extract_urls = lambda text: re.findall('https?://[^\\s]+', text)\n",
    "\n",
    "get_button_text = lambda url:url.split('q=')[1].split('&')[0].replace('+',' ')"
   ]
  },
  {
   "cell_type": "code",
   "execution_count": null,
   "id": "d71aab8e-8d3e-4796-96db-9a0c9ef57e10",
   "metadata": {},
   "outputs": [],
   "source": []
  },
  {
   "cell_type": "code",
   "execution_count": null,
   "id": "bc5a8e5a-fe56-4838-bf16-ca50652779c3",
   "metadata": {},
   "outputs": [],
   "source": [
    "!nbdev_export"
   ]
  },
  {
   "cell_type": "code",
   "execution_count": null,
   "id": "14277e97-7357-4e6a-a474-8f6a9c41b08d",
   "metadata": {},
   "outputs": [],
   "source": []
  }
 ],
 "metadata": {
  "kernelspec": {
   "display_name": "glovo",
   "language": "python",
   "name": "glovo"
  }
 },
 "nbformat": 4,
 "nbformat_minor": 5
}

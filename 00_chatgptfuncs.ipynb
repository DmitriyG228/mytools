{
 "cells": [
  {
   "cell_type": "code",
   "execution_count": null,
   "id": "944155e7-d0b2-4cf4-a021-852a5f3e3765",
   "metadata": {},
   "outputs": [],
   "source": [
    "#| default_exp chatgpt"
   ]
  },
  {
   "cell_type": "code",
   "execution_count": null,
   "id": "431a91ac-730c-4954-b5f4-216f648c15aa",
   "metadata": {},
   "outputs": [],
   "source": [
    "#| export\n",
    "import re\n",
    "from mytools.paths import *\n",
    "from mytools.tools import *\n",
    "import openai\n",
    "openai.api_key = get_api_key(api_path,'openai')"
   ]
  },
  {
   "cell_type": "code",
   "execution_count": null,
   "id": "4c31913f-1bf0-4b86-921d-fe172979cfd7",
   "metadata": {},
   "outputs": [],
   "source": [
    "#| export\n",
    "from transformers import CLIPProcessor, CLIPModel\n",
    "processor = CLIPProcessor.from_pretrained(\"openai/clip-vit-large-patch14\")\n",
    "tokenizer = processor.tokenizer\n",
    "import pandas as pd"
   ]
  },
  {
   "cell_type": "code",
   "execution_count": null,
   "id": "5d7a5737-4f5c-4993-af23-a30da67b6b81",
   "metadata": {},
   "outputs": [],
   "source": [
    "#| export\n",
    "def prompt(role,text): return {\"role\": role, \"content\": text}"
   ]
  },
  {
   "cell_type": "code",
   "execution_count": null,
   "id": "97a83d19-950e-4f7e-b945-db37680f75a6",
   "metadata": {},
   "outputs": [],
   "source": [
    "#| export\n",
    "def _ask_chatgpt(text,messages=[],prefix=[],role = 'user',return_request=False,model=\"gpt-3.5-turbo-0301\",**kwargs):\n",
    "    request = prompt(role,text)\n",
    "    messages = prefix+messages+[request]\n",
    "    \n",
    "    return openai.ChatCompletion.create(\n",
    "                                         model=model,  #\"gpt-4\", #\"gpt-4\" \"gpt-3.5-turbo\" gpt-3.5-turbo-0301\n",
    "                                         messages=messages,\n",
    "                                         **kwargs\n",
    "                                        )"
   ]
  },
  {
   "cell_type": "code",
   "execution_count": null,
   "id": "98f52383-11b9-476b-aaac-2a606ac43a16",
   "metadata": {},
   "outputs": [],
   "source": [
    "#| export\n",
    "def ask_chatgpt(text,messages=[],prefix=[],role = 'user',return_request=False,model=\"gpt-3.5-turbo-0301\",**kwargs):\n",
    "    request = prompt(role,text)\n",
    "    r = _ask_chatgpt(text,messages=[],prefix=[],role = 'user',return_request=False,model=model,**kwargs)\n",
    "    response = r.choices[0].message\n",
    "    print (response.content)\n",
    "    if return_request: return response,request\n",
    "    else: return response\n",
    "    "
   ]
  },
  {
   "cell_type": "code",
   "execution_count": null,
   "id": "8ee81438-e1dd-4025-903b-2be3e333203d",
   "metadata": {},
   "outputs": [],
   "source": [
    "#| export\n",
    "def ask_chatgpt_stream(text,messages=[],prefix=[],role = 'user',return_request=False,model=\"gpt-3.5-turbo-0301\",**kwargs):\n",
    "    \n",
    "    r = _ask_chatgpt(text,messages=messages,prefix=prefix,role = 'user',return_request=False,model=model,stream = True,**kwargs)\n",
    "    for i in r: \n",
    "        try:     yield i.choices[0].delta.content \n",
    "        except: pass"
   ]
  },
  {
   "cell_type": "code",
   "execution_count": null,
   "id": "bc385030-c768-4f8d-8812-1b2e85b79d64",
   "metadata": {},
   "outputs": [
    {
     "name": "stdout",
     "output_type": "stream",
     "text": [
      "As\n",
      " an\n",
      " AI\n",
      " language\n",
      " model\n",
      ",\n",
      " I\n",
      " have\n",
      " already\n",
      " been\n",
      " tested\n",
      " and\n",
      " trained\n",
      ".\n",
      " However\n",
      ",\n",
      " feel\n",
      " free\n",
      " to\n",
      " provide\n",
      " me\n",
      " with\n",
      " specific\n",
      " prompts\n",
      " or\n",
      " questions\n",
      " to\n",
      " see\n",
      " how\n",
      " well\n",
      " I\n",
      " can\n",
      " respond\n",
      ".\n"
     ]
    }
   ],
   "source": [
    "for i in ask_chatgpt_stream('test',model = 'gpt-3.5-turbo-0301'): print(i)"
   ]
  },
  {
   "cell_type": "code",
   "execution_count": null,
   "id": "a76c9b67-4a50-4db7-84d6-fcc910311cad",
   "metadata": {},
   "outputs": [],
   "source": []
  },
  {
   "cell_type": "code",
   "execution_count": null,
   "id": "5abf2a61-9878-41fe-acca-e78d51f9a853",
   "metadata": {},
   "outputs": [],
   "source": []
  },
  {
   "cell_type": "code",
   "execution_count": null,
   "id": "515cf4a8-991e-4917-8f37-3e88467fc71d",
   "metadata": {},
   "outputs": [],
   "source": [
    "#| export\n",
    "def chat(text, messages=[],prefix=[],model='gpt-3.5-turbo',append=True,role='user',**kwargs):\n",
    "    response,request = ask_chatgpt(text,messages=messages,prefix=prefix,role=role,return_request=True,**kwargs)\n",
    "    if append:\n",
    "        messages.append(request)\n",
    "        messages.append(response)\n",
    "        \n",
    "    return messages\n"
   ]
  },
  {
   "cell_type": "code",
   "execution_count": null,
   "id": "c989d45e-640b-4a2a-aff8-c064e13ec63d",
   "metadata": {},
   "outputs": [],
   "source": [
    "#| export\n",
    "def crop_tokens(messages,max_tokens=4000):\n",
    "    token_count_df = pd.DataFrame(messages)\n",
    "    token_count_df['len'] = token_count_df['content'].apply(lambda s:len(s.split(' ')))\n",
    "    token_count_df = token_count_df[token_count_df['len']<max_tokens]\n",
    "    token_count_df = token_count_df.sort_index(ascending=False)\n",
    "    token_count_df['len']=token_count_df['len'].cumsum()\n",
    "    token_count_df = token_count_df.sort_index()\n",
    "    token_index = token_count_df[token_count_df['len']<max_tokens].index\n",
    "    return [messages[i] for i in token_index]"
   ]
  },
  {
   "cell_type": "code",
   "execution_count": null,
   "id": "1a17f0a0-f3a6-4fb8-8a5e-ac79b4617609",
   "metadata": {},
   "outputs": [],
   "source": [
    "messages =[prompt('user',f'test{i} '*20) for i in range(2)]"
   ]
  },
  {
   "cell_type": "code",
   "execution_count": null,
   "id": "023cd7a9-ad2f-4bef-b38b-efba18629fee",
   "metadata": {},
   "outputs": [
    {
     "data": {
      "text/plain": [
       "[{'role': 'user',\n",
       "  'content': 'test0 test0 test0 test0 test0 test0 test0 test0 test0 test0 test0 test0 test0 test0 test0 test0 test0 test0 test0 test0 '},\n",
       " {'role': 'user',\n",
       "  'content': 'test1 test1 test1 test1 test1 test1 test1 test1 test1 test1 test1 test1 test1 test1 test1 test1 test1 test1 test1 test1 '}]"
      ]
     },
     "execution_count": null,
     "metadata": {},
     "output_type": "execute_result"
    }
   ],
   "source": [
    "crop_tokens(messages,1000)"
   ]
  },
  {
   "cell_type": "code",
   "execution_count": null,
   "id": "fc22b70a-4645-4b09-af03-45fa02454d5d",
   "metadata": {},
   "outputs": [],
   "source": [
    "#| export\n",
    "def strip_text(text,urls):\n",
    "    for url in urls: text = text.replace(url,'').strip()\n",
    "    while True:\n",
    "        start_len = len(text)\n",
    "        text = text.replace('  ',' ')\n",
    "        text = text.replace('\\n \\n','\\n')\n",
    "        stop_len = len(text)\n",
    "        if start_len == stop_len: break\n",
    "        \n",
    "    return text\n",
    "    "
   ]
  },
  {
   "cell_type": "code",
   "execution_count": null,
   "id": "e7d69096-7bd5-48fa-a1f2-e4435071b9bc",
   "metadata": {},
   "outputs": [],
   "source": [
    "#| export\n",
    "extract_urls = lambda text: re.findall('https?://[^\\s]+', text)\n",
    "\n",
    "get_button_text = lambda url:url.split('q=')[1].split('&')[0].replace('+',' ')"
   ]
  },
  {
   "cell_type": "code",
   "execution_count": null,
   "id": "d71aab8e-8d3e-4796-96db-9a0c9ef57e10",
   "metadata": {},
   "outputs": [],
   "source": []
  },
  {
   "cell_type": "code",
   "execution_count": null,
   "id": "bc5a8e5a-fe56-4838-bf16-ca50652779c3",
   "metadata": {},
   "outputs": [],
   "source": [
    "!nbdev_export"
   ]
  },
  {
   "cell_type": "code",
   "execution_count": null,
   "id": "14277e97-7357-4e6a-a474-8f6a9c41b08d",
   "metadata": {},
   "outputs": [],
   "source": []
  }
 ],
 "metadata": {
  "kernelspec": {
   "display_name": "glovo",
   "language": "python",
   "name": "glovo"
  }
 },
 "nbformat": 4,
 "nbformat_minor": 5
}

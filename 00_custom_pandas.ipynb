{
 "cells": [
  {
   "cell_type": "code",
   "execution_count": 4,
   "metadata": {},
   "outputs": [],
   "source": [
    "#| default_exp custom_pandas"
   ]
  },
  {
   "cell_type": "code",
   "execution_count": 5,
   "metadata": {},
   "outputs": [],
   "source": [
    "#| export\n",
    "from pandas.io.sql import  _convert_params, _wrap_result\n",
    "\n",
    "def read_sql_query(query, engine, chunksize, index_col=None, coerce_float=True, params=None, parse_dates=None,):\n",
    "    args = _convert_params(query, params)        \n",
    "    with engine.connect() as conn:\n",
    "        result = conn.execution_options(stream_results=True).execute(*args)\n",
    "        columns = result.keys()\n",
    "        for partition in result.partitions(chunksize):\n",
    "            yield _wrap_result(partition,\n",
    "                               columns,\n",
    "                               index_col=index_col,\n",
    "                               coerce_float=coerce_float,\n",
    "                               parse_dates=parse_dates,)"
   ]
  },
  {
   "cell_type": "code",
   "execution_count": 2,
   "metadata": {},
   "outputs": [
    {
     "name": "stdout",
     "output_type": "stream",
     "text": [
      "Converted 00_custom_pandas.ipynb.\n",
      "Converted 00_psql.ipynb.\n",
      "Converted 00_tools.ipynb.\n",
      "Converted 02_onehot.ipynb.\n",
      "Converted index.ipynb.\n"
     ]
    }
   ],
   "source": [
    "!conda activate mytools;nbdev_build_lib"
   ]
  },
  {
   "cell_type": "code",
   "execution_count": null,
   "metadata": {},
   "outputs": [],
   "source": []
  }
 ],
 "metadata": {
  "interpreter": {
   "hash": "6365d061e81b8c0bb3064d6704cf11d6e40dd3bb5a1988259337fb2df5fb9180"
  },
  "kernelspec": {
   "display_name": "Python 3 (ipykernel)",
   "language": "python",
   "name": "python3"
  },
  "language_info": {
   "codemirror_mode": {
    "name": "ipython",
    "version": 3
   },
   "file_extension": ".py",
   "mimetype": "text/x-python",
   "name": "python",
   "nbconvert_exporter": "python",
   "pygments_lexer": "ipython3",
   "version": "3.9.12"
  }
 },
 "nbformat": 4,
 "nbformat_minor": 4
}

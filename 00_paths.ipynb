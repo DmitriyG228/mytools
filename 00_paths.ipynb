{
 "cells": [
  {
   "cell_type": "code",
   "execution_count": 16,
   "id": "46756e00-e6e8-4a47-8f9f-c0900ed76467",
   "metadata": {},
   "outputs": [],
   "source": [
    "# | default_exp paths"
   ]
  },
  {
   "cell_type": "code",
   "execution_count": 17,
   "id": "feb5d131-0851-48fb-a4a1-55a236eb3d2f",
   "metadata": {},
   "outputs": [],
   "source": [
    "# |export\n",
    "from pathlib import Path\n",
    "import os"
   ]
  },
  {
   "cell_type": "code",
   "execution_count": 18,
   "id": "7b935eb8-d6fa-4152-8630-ecc26d167fb7",
   "metadata": {},
   "outputs": [],
   "source": [
    "# |export\n",
    "main_path                       = Path(os.getenv(\"HOME\"))\n",
    "main_path = main_path/'new'\n",
    "data_path = Path(main_path/'data')"
   ]
  },
  {
   "cell_type": "code",
   "execution_count": 23,
   "id": "84b943d9-7a45-47d6-9093-89b11ed4b6e3",
   "metadata": {},
   "outputs": [],
   "source": [
    "!nbdev_export"
   ]
  },
  {
   "cell_type": "code",
   "execution_count": null,
   "id": "222e8c82-39e8-4cbc-b20c-8525361b6cbc",
   "metadata": {},
   "outputs": [],
   "source": []
  }
 ],
 "metadata": {
  "kernelspec": {
   "display_name": "f1",
   "language": "python",
   "name": "f1"
  },
  "language_info": {
   "codemirror_mode": {
    "name": "ipython",
    "version": 3
   },
   "file_extension": ".py",
   "mimetype": "text/x-python",
   "name": "python",
   "nbconvert_exporter": "python",
   "pygments_lexer": "ipython3",
   "version": "3.9.12"
  }
 },
 "nbformat": 4,
 "nbformat_minor": 5
}

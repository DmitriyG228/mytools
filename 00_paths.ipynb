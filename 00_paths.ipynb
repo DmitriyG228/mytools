{
 "cells": [
  {
   "cell_type": "code",
   "execution_count": null,
   "id": "46756e00-e6e8-4a47-8f9f-c0900ed76467",
   "metadata": {},
   "outputs": [],
   "source": [
    "# | default_exp paths"
   ]
  },
  {
   "cell_type": "code",
   "execution_count": null,
   "id": "feb5d131-0851-48fb-a4a1-55a236eb3d2f",
   "metadata": {},
   "outputs": [],
   "source": [
    "# |export\n",
    "from pathlib import Path\n",
    "import os"
   ]
  },
  {
   "cell_type": "code",
   "execution_count": null,
   "id": "7b935eb8-d6fa-4152-8630-ecc26d167fb7",
   "metadata": {},
   "outputs": [],
   "source": [
    "# |export\n",
    "main_path = Path(os.getenv(\"HOME\"))\n",
    "data_path = main_path/'data'\n",
    "ssd_path = main_path/'ssd'\n",
    "api_path = data_path/'api'\n",
    "datasets_path = data_path/'datasets'"
   ]
  },
  {
   "cell_type": "code",
   "execution_count": null,
   "id": "a929d1ea-aecc-458f-be93-6f9954a12861",
   "metadata": {},
   "outputs": [
    {
     "data": {
      "text/plain": [
       "[None, None, None, None, None]"
      ]
     },
     "execution_count": null,
     "metadata": {},
     "output_type": "execute_result"
    }
   ],
   "source": [
    "[p.mkdir(exist_ok=True) for p in [main_path,data_path,ssd_path,api_path,datasets_path]]"
   ]
  },
  {
   "cell_type": "code",
   "execution_count": null,
   "id": "e9204068-f246-4faf-88d9-c51ce29eed82",
   "metadata": {},
   "outputs": [],
   "source": [
    "from mytools.tools import *"
   ]
  },
  {
   "cell_type": "code",
   "execution_count": null,
   "id": "04abd8b4-e571-4a83-8555-e18f14729b99",
   "metadata": {},
   "outputs": [
    {
     "data": {
      "text/plain": [
       "[PosixPath('/home/dima/data/api/openai')]"
      ]
     },
     "execution_count": null,
     "metadata": {},
     "output_type": "execute_result"
    }
   ],
   "source": [
    "api_path.ls()"
   ]
  },
  {
   "cell_type": "code",
   "execution_count": null,
   "id": "84b943d9-7a45-47d6-9093-89b11ed4b6e3",
   "metadata": {},
   "outputs": [],
   "source": [
    "!nbdev_export"
   ]
  },
  {
   "cell_type": "code",
   "execution_count": null,
   "id": "222e8c82-39e8-4cbc-b20c-8525361b6cbc",
   "metadata": {},
   "outputs": [
    {
     "name": "stdout",
     "output_type": "stream",
     "text": [
      "Obtaining file:///home/dima/mytools\n",
      "Requirement already satisfied: pip in /home/dima/anaconda3/lib/python3.9/site-packages (from mytools==0.0.1) (21.2.4)\n",
      "Requirement already satisfied: packaging in /home/dima/anaconda3/lib/python3.9/site-packages (from mytools==0.0.1) (21.3)\n",
      "Requirement already satisfied: pyparsing!=3.0.5,>=2.0.2 in /home/dima/anaconda3/lib/python3.9/site-packages (from packaging->mytools==0.0.1) (3.0.4)\n",
      "Installing collected packages: mytools\n",
      "  Attempting uninstall: mytools\n",
      "    Found existing installation: mytools 0.0.1\n",
      "    Uninstalling mytools-0.0.1:\n",
      "      Successfully uninstalled mytools-0.0.1\n",
      "  Running setup.py develop for mytools\n",
      "Successfully installed mytools-0.0.1\n"
     ]
    }
   ],
   "source": [
    "!pip install -e ."
   ]
  },
  {
   "cell_type": "code",
   "execution_count": null,
   "id": "4659943e-4485-4f74-b131-c55dd18c9592",
   "metadata": {},
   "outputs": [],
   "source": []
  }
 ],
 "metadata": {
  "kernelspec": {
   "display_name": "glovo",
   "language": "python",
   "name": "glovo"
  }
 },
 "nbformat": 4,
 "nbformat_minor": 5
}

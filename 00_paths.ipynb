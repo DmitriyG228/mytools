{
 "cells": [
  {
   "cell_type": "code",
   "execution_count": 1,
   "id": "46756e00-e6e8-4a47-8f9f-c0900ed76467",
   "metadata": {},
   "outputs": [],
   "source": [
    "# | default_exp paths"
   ]
  },
  {
   "cell_type": "code",
   "execution_count": 2,
   "id": "feb5d131-0851-48fb-a4a1-55a236eb3d2f",
   "metadata": {},
   "outputs": [],
   "source": [
    "# |export\n",
    "from pathlib import Path\n",
    "import os"
   ]
  },
  {
   "cell_type": "code",
   "execution_count": 3,
   "id": "7b935eb8-d6fa-4152-8630-ecc26d167fb7",
   "metadata": {},
   "outputs": [],
   "source": [
    "# |export\n",
    "main_path = Path(os.getenv(\"HOME\"))\n",
    "main_path = main_path/'new'\n",
    "data_path = main_path/'data'\n",
    "datasets_path = data_path/'datasets'"
   ]
  },
  {
   "cell_type": "code",
   "execution_count": 5,
   "id": "e9204068-f246-4faf-88d9-c51ce29eed82",
   "metadata": {},
   "outputs": [],
   "source": [
    "from mytools.tools import *"
   ]
  },
  {
   "cell_type": "code",
   "execution_count": 6,
   "id": "04abd8b4-e571-4a83-8555-e18f14729b99",
   "metadata": {},
   "outputs": [
    {
     "data": {
      "text/plain": [
       "[PosixPath('/home/dima/new/data/datasets/mnogolasosya')]"
      ]
     },
     "execution_count": 6,
     "metadata": {},
     "output_type": "execute_result"
    }
   ],
   "source": [
    "datasets_path.ls()"
   ]
  },
  {
   "cell_type": "code",
   "execution_count": 7,
   "id": "84b943d9-7a45-47d6-9093-89b11ed4b6e3",
   "metadata": {},
   "outputs": [],
   "source": [
    "!nbdev_export"
   ]
  },
  {
   "cell_type": "code",
   "execution_count": null,
   "id": "222e8c82-39e8-4cbc-b20c-8525361b6cbc",
   "metadata": {},
   "outputs": [
    {
     "name": "stdout",
     "output_type": "stream",
     "text": [
      "Obtaining file:///home/dima/new/mytools\n",
      "Requirement already satisfied: pip in /home/dima/anaconda3/lib/python3.9/site-packages (from mytools==0.0.1) (21.2.4)\n",
      "Requirement already satisfied: packaging in /home/dima/anaconda3/lib/python3.9/site-packages (from mytools==0.0.1) (21.3)\n",
      "Requirement already satisfied: pyparsing!=3.0.5,>=2.0.2 in /home/dima/anaconda3/lib/python3.9/site-packages (from packaging->mytools==0.0.1) (3.0.4)\n"
     ]
    }
   ],
   "source": [
    "!pip install -e ."
   ]
  },
  {
   "cell_type": "code",
   "execution_count": null,
   "id": "4659943e-4485-4f74-b131-c55dd18c9592",
   "metadata": {},
   "outputs": [],
   "source": []
  }
 ],
 "metadata": {
  "kernelspec": {
   "display_name": "f1",
   "language": "python",
   "name": "f1"
  },
  "language_info": {
   "codemirror_mode": {
    "name": "ipython",
    "version": 3
   },
   "file_extension": ".py",
   "mimetype": "text/x-python",
   "name": "python",
   "nbconvert_exporter": "python",
   "pygments_lexer": "ipython3",
   "version": "3.9.12"
  }
 },
 "nbformat": 4,
 "nbformat_minor": 5
}

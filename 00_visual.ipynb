{
 "cells": [
  {
   "cell_type": "code",
   "execution_count": 2,
   "id": "b8969f0b-4c76-45a0-a6ee-5be1c5585743",
   "metadata": {},
   "outputs": [],
   "source": [
    "#default_exp visual"
   ]
  },
  {
   "cell_type": "code",
   "execution_count": 3,
   "id": "a406fd79-f0fa-47bd-b053-13692dd9d0b9",
   "metadata": {},
   "outputs": [],
   "source": [
    "#export\n",
    "from mytools.tools import *\n",
    "import numpy as np\n",
    "import torch\n",
    "from matplotlib import pyplot as plt\n",
    "import requests\n",
    "import pandas as pd"
   ]
  },
  {
   "cell_type": "code",
   "execution_count": 4,
   "id": "2d683fdd-fa9b-403f-ade8-96b578ac027b",
   "metadata": {},
   "outputs": [],
   "source": [
    "#export\n",
    "from matplotlib import pyplot as plt\n",
    "import io\n",
    "import seaborn as sb\n",
    "from matplotlib.colors import ListedColormap,LinearSegmentedColormap\n",
    "from PIL import Image\n",
    "plt.rcParams['figure.figsize'] = (70,70)"
   ]
  },
  {
   "cell_type": "code",
   "execution_count": 5,
   "id": "8f801228-5ddd-4b3b-9e63-fecde77b1fa9",
   "metadata": {},
   "outputs": [],
   "source": [
    "#export\n",
    "#https://stackoverflow.com/questions/59831211/neighbours-of-a-cell-in-matrix-pytorch\n",
    "import torch.nn.functional as nnf\n",
    "\n",
    "def mean_filter(x_bchw):\n",
    "    \"\"\"\n",
    "    Calculating the mean of each 3x3 neighborhood.\n",
    "    input:\n",
    "    - x_bchw: input tensor of dimensions batch-channel-height-width\n",
    "    output:\n",
    "    - y_bchw: each element in y is the average of the 9 corresponding elements in x_bchw\n",
    "    \"\"\"\n",
    "    # define the filter\n",
    "    box = torch.ones((3, 3), dtype=x_bchw.dtype, device=x_bchw.device, requires_grad=False)  \n",
    "    box = box / box.sum()\n",
    "    box = box[None, None, ...].repeat(x_bchw.size(1), 1, 1, 1)\n",
    "    # use grouped convolution - so each channel is averaged separately.  \n",
    "    y_bchw = nnf.conv2d(x_bchw, box, padding=1, groups=x_bchw.size(1))\n",
    "    return y_bchw"
   ]
  },
  {
   "cell_type": "code",
   "execution_count": 1,
   "id": "deaf8bdc-2309-469a-b5a8-cce38484b75a",
   "metadata": {},
   "outputs": [],
   "source": [
    "#export\n",
    "def visualize_array(array,back_img = None,alpha=0.3,size = 500,colors = [\"white\",\"lime\",\"green\",\"yellow\",\"orange\", \"red\",\"purple\"],values = [0,1,50,100,200,300,400],vmin=5):\n",
    "\n",
    "    l = list(zip([v/max(values) for v in values],colors))\n",
    "    cmap=LinearSegmentedColormap.from_list('hmap',l)\n",
    "    if not array.T.shape == back_img.size:array = extrapolate(array,size = size)\n",
    "    fig, ax = plt.subplots(figsize=(15,15))\n",
    "    ax.axes.xaxis.set_visible(False)\n",
    "    ax.axes.yaxis.set_visible(False)\n",
    "\n",
    "    sb.heatmap(array, alpha=0.8,cmap=cmap,vmin=vmin, vmax=max(values),cbar=False)\n",
    "    ax.imshow(back_img, interpolation='none', alpha=1)\n",
    "\n",
    "    buf = io.BytesIO()\n",
    "    fig.savefig(buf)\n",
    "    buf.seek(0)\n",
    "    return Image.open(buf)"
   ]
  },
  {
   "cell_type": "code",
   "execution_count": 7,
   "id": "b530a43b-860a-428a-b0c7-f80b193b53d0",
   "metadata": {},
   "outputs": [],
   "source": [
    "#export\n",
    "def extrapolate(t,factor=None,size=None):\n",
    "    t     = torch.Tensor(t)\n",
    "    t     = t.unsqueeze(0)\n",
    "    t     = torch.nn.functional.upsample(t, scale_factor=factor,size=size)\n",
    "    t     = t.squeeze(0).T.unsqueeze(0)\n",
    "    t     = torch.nn.functional.upsample(t, scale_factor=factor,size=size)\n",
    "    return  t.squeeze(0).T"
   ]
  },
  {
   "cell_type": "code",
   "execution_count": 8,
   "id": "a9db41f5-705b-472f-b07c-8294a3809421",
   "metadata": {},
   "outputs": [],
   "source": [
    "#export\n",
    "def expand_boundaries(t,times=5,factor=5):\n",
    "    init_size = t.shape[0]\n",
    "    t = extrapolate(t,factor=1/factor)\n",
    "    t = t[None, None, ...].repeat(t.size(1), 1, 1, 1)\n",
    "    for _ in range(times):\n",
    "        t = mean_filter(t)\n",
    "        t[t>0] = 1\n",
    "\n",
    "    t = t[0,0,:]\n",
    "    return extrapolate(t,size=init_size).numpy()"
   ]
  },
  {
   "cell_type": "code",
   "execution_count": 9,
   "id": "8ed018e7-0e60-45df-86ee-1fa7dea123c7",
   "metadata": {},
   "outputs": [],
   "source": [
    "#export\n",
    "def crop_center_arr(arr,shape):\n",
    "    left  = int((arr.shape[1]-shape)/2)\n",
    "    right =      left+shape  \n",
    "    up    = int((arr.shape[0]-shape)/2)\n",
    "    down  =      up+shape \n",
    "    return arr[left:right, up:down]"
   ]
  },
  {
   "cell_type": "code",
   "execution_count": 10,
   "id": "b1aee074-80e0-411a-b6e4-3dc46b7717b1",
   "metadata": {},
   "outputs": [],
   "source": [
    "#export\n",
    "def apply_mask(img,mask):\n",
    "    mask = np.array(mask).astype('int')\n",
    "    img = np.array(img)\n",
    "    # if img[:,:,0].shape !=mask.shape: \n",
    "    #     df = pd.DataFrame([mask.shape,img.shape[:-1]])\n",
    "    #     df.iloc[0] = -df.iloc[0]\n",
    "    #     mask = mask[:-1,:] if df.sum().tolist() ==[0, -1]  else mask[:,:-1]\n",
    "        \n",
    "    \n",
    "    return img * np.stack([mask]*3).T"
   ]
  },
  {
   "cell_type": "code",
   "execution_count": 11,
   "id": "8c2bf0d2-eede-42b2-9ef3-8caac66b37de",
   "metadata": {},
   "outputs": [],
   "source": [
    "#export\n",
    "def crop_zeros(img_arr):\n",
    "\n",
    "    true_points = np.argwhere(img_arr)\n",
    "    top_left = true_points.min(axis=0)\n",
    "    bottom_right = true_points.max(axis=0)\n",
    "    return (img_arr[top_left[0]:bottom_right[0]+1,\n",
    "                      top_left[1]:bottom_right[1]+1]).astype(np.uint8)"
   ]
  },
  {
   "cell_type": "code",
   "execution_count": 58,
   "id": "8f36de11-c176-42b7-a7c6-ea5cbd5e58a0",
   "metadata": {},
   "outputs": [],
   "source": [
    "def crop_image_to_square(img):\n",
    "    height = img.size[1]//2*2\n",
    "    left  = int((img.size[0]-height)/2)\n",
    "    right =      img.size[0]-left\n",
    "    return img.crop((left,0,right,height))"
   ]
  },
  {
   "cell_type": "code",
   "execution_count": 246,
   "id": "2e13c551-cf8b-4198-9c67-208b52ab5d56",
   "metadata": {},
   "outputs": [],
   "source": [
    "#export\n",
    "def crop_image_to_square(img):\n",
    "    size = max(img.size)//2*2\n",
    "\n",
    "    x_adj = int((img.size[0]-size)/2)\n",
    "    y_adj = int((img.size[1]-size)/2)\n",
    "\n",
    "    return img.crop((x_adj,y_adj,size+x_adj,size+y_adj))"
   ]
  },
  {
   "cell_type": "code",
   "execution_count": 250,
   "id": "d114517d-4562-4939-b3bc-7e4fa9eb8d14",
   "metadata": {},
   "outputs": [],
   "source": [
    "#url = 'https://dima.grankin.eu/reference_images/AgACAgIAAxkBAAIKAmLhn0SdD55hleSPR5q57eb-6Lb2AAIZvzEb6jQQS7YEy1gu7EwnAQADAgADeQADKQQ'\n",
    "url = 'https://image.shutterstock.com/z/stock-photo-healthy-lunch-box-with-sandwich-and-fresh-vegetables-bottle-of-water-and-fruits-on-wooden-568229575.jpg'\n",
    "\n",
    "img = get_image_from_url(url)"
   ]
  },
  {
   "cell_type": "code",
   "execution_count": 251,
   "id": "a7ef2820-ff96-4442-ab27-2394d502a210",
   "metadata": {},
   "outputs": [],
   "source": [
    "img = crop_image_to_square(img)"
   ]
  },
  {
   "cell_type": "code",
   "execution_count": 252,
   "id": "a2762273-8586-4031-967b-9352db48991c",
   "metadata": {},
   "outputs": [
    {
     "data": {
      "text/plain": [
       "(1500, 1500)"
      ]
     },
     "execution_count": 252,
     "metadata": {},
     "output_type": "execute_result"
    }
   ],
   "source": [
    "img.size"
   ]
  },
  {
   "cell_type": "code",
   "execution_count": 21,
   "id": "66ea50f1-45a4-4e68-bd58-c20f08d71682",
   "metadata": {},
   "outputs": [],
   "source": [
    "#export\n",
    "def search_clip(url,foods,food_clips,head = 1):\n",
    "    image_clip = requests.post(f'http://127.0.0.1:8182/image2vector/?url={url}').json()\n",
    "    image_clip = torch.tensor(image_clip)\n",
    "    df = foods.copy()\n",
    "    df['score'] = cos(food_clips,image_clip)\n",
    "    df = df.sort_values('score',ascending=False)[:head]\n",
    "\n",
    "    return image_clip,df.reset_index()"
   ]
  },
  {
   "cell_type": "code",
   "execution_count": 22,
   "id": "f7be3786-74a8-473e-a3b8-8c40993508e8",
   "metadata": {},
   "outputs": [],
   "source": [
    "photo_id=''\n",
    "\n",
    "url = 'https://image.shutterstock.com/z/stock-photo-white-plate-of-orange-pumpkin-soup-on-the-table-studio-shot-1909804795.jpg'\n",
    "img = get_image_from_url(url)\n",
    "img = crop_image_to_square(img)\n",
    "total_size = img.size[0]*img.size[1]\n",
    "\n",
    "i = np.asarray(img, dtype=\"uint8\")\n",
    "i = np.flip(i,2)"
   ]
  },
  {
   "cell_type": "code",
   "execution_count": 23,
   "id": "3f96dbf8-bf13-4b29-862e-57dbd8e0cf4a",
   "metadata": {},
   "outputs": [],
   "source": [
    "s = 100\n",
    "ones = torch.ones(s,s)\n",
    "t = torch.zeros(1000,1000)\n",
    "x=600\n",
    "y=600\n",
    "t[x:x+s,y:y+s] = ones\n",
    "x=700\n",
    "y=700\n",
    "t[x:x+s,y:y+s] = ones"
   ]
  },
  {
   "cell_type": "code",
   "execution_count": 26,
   "id": "c3e07c23-cb1d-4c66-9eb4-3212651c6564",
   "metadata": {},
   "outputs": [
    {
     "data": {
      "text/plain": [
       "tensor(1.)"
      ]
     },
     "execution_count": 26,
     "metadata": {},
     "output_type": "execute_result"
    }
   ],
   "source": [
    "t.max()"
   ]
  },
  {
   "cell_type": "code",
   "execution_count": 24,
   "id": "69aac4bc-fb35-4a5e-a60d-fd6520fff6dc",
   "metadata": {},
   "outputs": [
    {
     "data": {
      "image/png": "[encoded data removed]",
      "text/plain": [
       "<PIL.PngImagePlugin.PngImageFile image mode=RGBA size=432x288>"
      ]
     },
     "execution_count": 30,
     "metadata": {},
     "output_type": "execute_result"
    },
    {
     "data": {
      "image/png": "[encoded data removed]",
      "text/plain": [
       "<Figure size 432x288 with 1 Axes>"
      ]
     },
     "metadata": {
      "needs_background": "light"
     },
     "output_type": "display_data"
    }
   ],
   "source": [
    "visualize_array(t)"
   ]
  },
  {
   "cell_type": "code",
   "execution_count": 31,
   "id": "c69a3df3-a237-497b-a256-b3f11e33d391",
   "metadata": {},
   "outputs": [
    {
     "name": "stderr",
     "output_type": "stream",
     "text": [
      "/home/dima/anaconda3/envs/f4/lib/python3.9/site-packages/torch/nn/functional.py:3679: UserWarning: The default behavior for interpolate/upsample with float scale_factor changed in 1.6.0 to align with other frameworks/libraries, and now uses scale_factor directly, instead of relying on the computed output size. If you wish to restore the old behavior, please set recompute_scale_factor=True. See the documentation of nn.Upsample for details. \n",
      "  warnings.warn(\n"
     ]
    }
   ],
   "source": [
    "tt = expand_boundaries(t,times=5,factor=5)"
   ]
  },
  {
   "cell_type": "code",
   "execution_count": 32,
   "id": "075ffab0-3638-4a82-bb91-11b18557c822",
   "metadata": {},
   "outputs": [
    {
     "data": {
      "text/plain": [
       "array([[0., 0., 0., ..., 0., 0., 0.],\n",
       "       [0., 0., 0., ..., 0., 0., 0.],\n",
       "       [0., 0., 0., ..., 0., 0., 0.],\n",
       "       ...,\n",
       "       [0., 0., 0., ..., 0., 0., 0.],\n",
       "       [0., 0., 0., ..., 0., 0., 0.],\n",
       "       [0., 0., 0., ..., 0., 0., 0.]], dtype=float32)"
      ]
     },
     "execution_count": 32,
     "metadata": {},
     "output_type": "execute_result"
    }
   ],
   "source": [
    "tt"
   ]
  },
  {
   "cell_type": "code",
   "execution_count": 16,
   "id": "de25143e-858b-4efe-ae0a-e8cc42c82dff",
   "metadata": {},
   "outputs": [
    {
     "data": {
      "text/plain": [
       "<matplotlib.image.AxesImage at 0x7fad19df2af0>"
      ]
     },
     "execution_count": 16,
     "metadata": {},
     "output_type": "execute_result"
    },
    {
     "data": {
      "image/png": "[encoded data removed]",
      "text/plain": [
       "<Figure size 432x288 with 1 Axes>"
      ]
     },
     "metadata": {
      "needs_background": "light"
     },
     "output_type": "display_data"
    }
   ],
   "source": [
    "visualize_array(t.numpy()+tt)"
   ]
  },
  {
   "cell_type": "code",
   "execution_count": 3,
   "id": "ba6cfa5e-6c0c-4245-a794-350fe1977622",
   "metadata": {},
   "outputs": [
    {
     "name": "stdout",
     "output_type": "stream",
     "text": [
      "Converted 00_custom_pandas.ipynb.\n",
      "Converted 00_psql.ipynb.\n",
      "Converted 00_tools.ipynb.\n",
      "Converted 00_visual.ipynb.\n",
      "Converted 02_onehot.ipynb.\n",
      "Converted index.ipynb.\n"
     ]
    }
   ],
   "source": [
    "!conda activate f4; nbdev_build_lib"
   ]
  },
  {
   "cell_type": "code",
   "execution_count": null,
   "id": "9f39ff9f-7f05-49b4-8b54-39482f5ac7d7",
   "metadata": {},
   "outputs": [],
   "source": []
  }
 ],
 "metadata": {
  "kernelspec": {
   "display_name": "f4",
   "language": "python",
   "name": "f4"
  },
  "language_info": {
   "codemirror_mode": {
    "name": "ipython",
    "version": 3
   },
   "file_extension": ".py",
   "mimetype": "text/x-python",
   "name": "python",
   "nbconvert_exporter": "python",
   "pygments_lexer": "ipython3",
   "version": "3.9.13"
  }
 },
 "nbformat": 4,
 "nbformat_minor": 5
}

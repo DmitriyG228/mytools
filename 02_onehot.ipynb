{
 "cells": [
  {
   "cell_type": "code",
   "execution_count": 5,
   "metadata": {},
   "outputs": [],
   "source": [
    "#default_exp onehot"
   ]
  },
  {
   "cell_type": "code",
   "execution_count": 6,
   "metadata": {},
   "outputs": [],
   "source": [
    "#export\n",
    "from collections import OrderedDict\n",
    "import pandas as pd\n",
    "import numpy as np\n",
    "from food.tools import from_pickle, to_pickle"
   ]
  },
  {
   "cell_type": "code",
   "execution_count": 7,
   "metadata": {},
   "outputs": [],
   "source": [
    "#export\n",
    "class OneHot:\n",
    "    def __init__(self, bins):\n",
    "        self.bins = bins\n",
    "        self.n_bin = OrderedDict(((k,len(v)-1) for k,v in bins.items()))\n",
    "           \n",
    "    @classmethod\n",
    "    def from_df(cls, n_bin:OrderedDict, df:pd.DataFrame, apply:bool=False):\n",
    "        bins = OrderedDict()\n",
    "        for c in n_bin.keys(): \n",
    "            c_binned, bins[c] =  pd.qcut(df[c], n_bin[c], retbins=True, duplicates='drop')   \n",
    "            bins[c][0], bins[c][-1] = -np.Inf, np.Inf\n",
    "            if apply: df[c] = c_binned\n",
    "        return cls(bins)\n",
    "    \n",
    "    @classmethod\n",
    "    def from_file(cls, fname:str):\n",
    "        return cls(from_pickle(fname))\n",
    "    \n",
    "    def n_dim(self):\n",
    "        return sum(list(self.n_bin.values()))\n",
    "    \n",
    "    def to_file(self, fname:str):\n",
    "        to_pickle(self.bins, fname)\n",
    "\n",
    "    def apply_bins(self, df:pd.DataFrame):\n",
    "        for c,abin in self.bins.items(): \n",
    "            df[c] = pd.cut(df[c], bins=abin)\n",
    "\n",
    "    def apply(self, df:pd.DataFrame, target='clip'): #this works for vectors in single column\n",
    "        df_temp = pd.DataFrame(df[target].tolist())\n",
    "        for c, abin in self.bins.items(): \n",
    "            binned_column = pd.cut(df[c], bins=abin)\n",
    "            one_hot_columns = pd.get_dummies(binned_column, prefix=f'target_{c}')\n",
    "            df_temp = df_temp.join(one_hot_columns)\n",
    "        \n",
    "        v_onehot = df_temp.apply(lambda row:row.values,axis=1)\n",
    "        df[target] = v_onehot\n",
    "\n",
    "    \n",
    "        \n",
    "    def apply_multiple_columns(self, df:pd.DataFrame, target='clip'): #this works for vectors destributed between multiple columns\n",
    "        df_temp = df\n",
    "        for c, abin in self.bins.items(): \n",
    "            binned_column = pd.cut(df[c], bins=abin)\n",
    "            one_hot_columns = pd.get_dummies(binned_column, prefix=f'{target}_{c}')\n",
    "            df_temp = df_temp.join(one_hot_columns)\n",
    "        \n",
    "        v_onehot = df_temp[[c for c in df_temp.columns if target in c]].apply(lambda row:row.values,axis=1)\n",
    "        df.drop(columns = [c for c in df.columns if target in c], inplace=True)\n",
    "        df[target] = v_onehot\n",
    "        \n",
    "    def build_milvus_query(self, parameters):\n",
    "        bins, n_bin = self.bins, self.n_bin\n",
    "        query_expr = \"\"\n",
    "        sep = \"\"\n",
    "\n",
    "        mask_query = OrderedDict()\n",
    "        for c,dim in n_bin.items():\n",
    "            mask_query[c] = np.ones(dim)  \n",
    "\n",
    "        def min_one_hot(p_name, p_val):\n",
    "            if p_name not in bins: return\n",
    "            mul = p_val <= bins[p_name]\n",
    "            mul = mul[1:]\n",
    "            mask_query[p_name] *= mul\n",
    "\n",
    "        def max_one_hot(p_name, p_val):\n",
    "            if p_name not in bins: return\n",
    "            mul = bins[p_name] < p_val\n",
    "            mul = mul[:-1]\n",
    "            mask_query[p_name] *= mul \n",
    "\n",
    "        def eq_one_hot(p_name, p_val):\n",
    "            if p_name not in bins: return\n",
    "            a = p_val <= bins[p_name] \n",
    "            b = bins[p_name] < p_val\n",
    "            mul = a[1:]*b[:-1]\n",
    "            mask_query[p_name] *= mul \n",
    "\n",
    "        for p_name, p_val in parameters.items():\n",
    "            if p_val is None: continue\n",
    "            if p_name.startswith('min_'):\n",
    "                p_name = p_name.removeprefix('min_')\n",
    "                min_one_hot(p_name, p_val)\n",
    "                query_expr += sep + f\"{p_name} >= {p_val}\"\n",
    "            elif p_name.startswith('max_'):\n",
    "                p_name = p_name.removeprefix('max_')\n",
    "                max_one_hot(p_name, p_val)\n",
    "                query_expr += sep + f\"{p_name} <= {p_val}\"\n",
    "            else:\n",
    "                eq_one_hot(p_name, p_val)\n",
    "                query_expr += sep + f\"{p_name} == {p_val}\"\n",
    "            sep = \" && \"\n",
    "\n",
    "        for c,dim in n_bin.items():\n",
    "            if all(mask_query[c]):\n",
    "                mask_query[c] = np.zeros(dim)  \n",
    "            \n",
    "        return query_expr, np.hstack(list(mask_query.values()))"
   ]
  },
  {
   "cell_type": "code",
   "execution_count": null,
   "metadata": {},
   "outputs": [],
   "source": []
  },
  {
   "cell_type": "code",
   "execution_count": 8,
   "metadata": {},
   "outputs": [
    {
     "name": "stdout",
     "output_type": "stream",
     "text": [
      "Converted 00_clipmodel.ipynb.\n",
      "Converted 00_custom_pandas.ipynb.\n",
      "Converted 00_paths.ipynb.\n",
      "Converted 00_progress_check.ipynb.\n",
      "Converted 00_psql.ipynb.\n",
      "Converted 00_qdrant.ipynb.\n",
      "Converted 00_tools.ipynb.\n",
      "Converted 01_search copy.ipynb.\n",
      "Converted 01_search.ipynb.\n",
      "Converted 02_onehot.ipynb.\n",
      "Converted colr_segmentation.ipynb.\n",
      "Converted food_clustering.ipynb.\n",
      "Converted inference.ipynb.\n",
      "Converted search_segmented.ipynb.\n",
      "Converted search_segmented_stable.ipynb.\n",
      "Converted stats.ipynb.\n",
      "Converted update_qdrant.ipynb.\n",
      "Converted usda_parsing.ipynb.\n",
      "Converted weird_results_of_image2image.ipynb.\n"
     ]
    }
   ],
   "source": [
    "!nbdev_build_lib"
   ]
  },
  {
   "cell_type": "code",
   "execution_count": null,
   "metadata": {},
   "outputs": [],
   "source": []
  }
 ],
 "metadata": {
  "kernelspec": {
   "display_name": "Python 3.9.12 ('food')",
   "language": "python",
   "name": "python3"
  },
  "language_info": {
   "codemirror_mode": {
    "name": "ipython",
    "version": 3
   },
   "file_extension": ".py",
   "mimetype": "text/x-python",
   "name": "python",
   "nbconvert_exporter": "python",
   "pygments_lexer": "ipython3",
   "version": "3.9.12"
  },
  "vscode": {
   "interpreter": {
    "hash": "1e1ee659a212ecca49d6a1809275141ef7642c152d6286fb803a43d965656456"
   }
  }
 },
 "nbformat": 4,
 "nbformat_minor": 4
}
